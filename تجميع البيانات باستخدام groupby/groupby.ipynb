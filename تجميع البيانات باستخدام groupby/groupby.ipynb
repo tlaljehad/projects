{
 "cells": [
  {
   "cell_type": "code",
   "execution_count": 1,
   "id": "8b463f39",
   "metadata": {},
   "outputs": [
    {
     "name": "stdout",
     "output_type": "stream",
     "text": [
      "<class 'pandas.core.frame.DataFrame'>\n",
      "RangeIndex: 52 entries, 0 to 51\n",
      "Data columns (total 4 columns):\n",
      " #   Column   Non-Null Count  Dtype \n",
      "---  ------   --------------  ----- \n",
      " 0   Id       52 non-null     int64 \n",
      " 1   Gender   52 non-null     object\n",
      " 2   Country  52 non-null     object\n",
      " 3   Amount   52 non-null     int64 \n",
      "dtypes: int64(2), object(2)\n",
      "memory usage: 1.8+ KB\n"
     ]
    }
   ],
   "source": [
    "import pandas as pd\n",
    "\n",
    "df = pd.read_csv(\"Ecommerce.csv\")\n",
    "\n",
    "df.info()"
   ]
  },
  {
   "cell_type": "code",
   "execution_count": 2,
   "id": "43c5848c",
   "metadata": {},
   "outputs": [
    {
     "data": {
      "text/plain": [
       "{'KSA': [0, 1, 2, 4, 5, 9, 17, 33, 37, 39, 40, 41, 42, 44, 46, 47, 49, 50, 51], 'Kuwait': [3, 6, 11, 15, 16, 18, 19, 23, 26, 30, 31, 32, 34, 35, 36, 38, 43, 48], 'UAE': [7, 8, 10, 12, 13, 14, 20, 21, 22, 24, 25, 27, 28, 29, 45]}"
      ]
     },
     "execution_count": 2,
     "metadata": {},
     "output_type": "execute_result"
    }
   ],
   "source": [
    "gc = df.groupby('Country')\n",
    "gc.groups"
   ]
  },
  {
   "cell_type": "code",
   "execution_count": 3,
   "id": "8c318295",
   "metadata": {},
   "outputs": [
    {
     "data": {
      "text/html": [
       "<div>\n",
       "<style scoped>\n",
       "    .dataframe tbody tr th:only-of-type {\n",
       "        vertical-align: middle;\n",
       "    }\n",
       "\n",
       "    .dataframe tbody tr th {\n",
       "        vertical-align: top;\n",
       "    }\n",
       "\n",
       "    .dataframe thead th {\n",
       "        text-align: right;\n",
       "    }\n",
       "</style>\n",
       "<table border=\"1\" class=\"dataframe\">\n",
       "  <thead>\n",
       "    <tr style=\"text-align: right;\">\n",
       "      <th></th>\n",
       "      <th>Id</th>\n",
       "      <th>Gender</th>\n",
       "      <th>Country</th>\n",
       "      <th>Amount</th>\n",
       "    </tr>\n",
       "  </thead>\n",
       "  <tbody>\n",
       "    <tr>\n",
       "      <th>0</th>\n",
       "      <td>1</td>\n",
       "      <td>male</td>\n",
       "      <td>KSA</td>\n",
       "      <td>1500</td>\n",
       "    </tr>\n",
       "    <tr>\n",
       "      <th>1</th>\n",
       "      <td>2</td>\n",
       "      <td>male</td>\n",
       "      <td>KSA</td>\n",
       "      <td>2000</td>\n",
       "    </tr>\n",
       "    <tr>\n",
       "      <th>2</th>\n",
       "      <td>3</td>\n",
       "      <td>male</td>\n",
       "      <td>KSA</td>\n",
       "      <td>3000</td>\n",
       "    </tr>\n",
       "    <tr>\n",
       "      <th>4</th>\n",
       "      <td>5</td>\n",
       "      <td>female</td>\n",
       "      <td>KSA</td>\n",
       "      <td>1000</td>\n",
       "    </tr>\n",
       "    <tr>\n",
       "      <th>5</th>\n",
       "      <td>6</td>\n",
       "      <td>male</td>\n",
       "      <td>KSA</td>\n",
       "      <td>1500</td>\n",
       "    </tr>\n",
       "    <tr>\n",
       "      <th>9</th>\n",
       "      <td>10</td>\n",
       "      <td>female</td>\n",
       "      <td>KSA</td>\n",
       "      <td>1000</td>\n",
       "    </tr>\n",
       "    <tr>\n",
       "      <th>17</th>\n",
       "      <td>18</td>\n",
       "      <td>male</td>\n",
       "      <td>KSA</td>\n",
       "      <td>3000</td>\n",
       "    </tr>\n",
       "    <tr>\n",
       "      <th>33</th>\n",
       "      <td>34</td>\n",
       "      <td>male</td>\n",
       "      <td>KSA</td>\n",
       "      <td>2000</td>\n",
       "    </tr>\n",
       "    <tr>\n",
       "      <th>37</th>\n",
       "      <td>38</td>\n",
       "      <td>female</td>\n",
       "      <td>KSA</td>\n",
       "      <td>1000</td>\n",
       "    </tr>\n",
       "    <tr>\n",
       "      <th>39</th>\n",
       "      <td>40</td>\n",
       "      <td>female</td>\n",
       "      <td>KSA</td>\n",
       "      <td>1500</td>\n",
       "    </tr>\n",
       "    <tr>\n",
       "      <th>40</th>\n",
       "      <td>41</td>\n",
       "      <td>female</td>\n",
       "      <td>KSA</td>\n",
       "      <td>2000</td>\n",
       "    </tr>\n",
       "    <tr>\n",
       "      <th>41</th>\n",
       "      <td>42</td>\n",
       "      <td>female</td>\n",
       "      <td>KSA</td>\n",
       "      <td>1000</td>\n",
       "    </tr>\n",
       "    <tr>\n",
       "      <th>42</th>\n",
       "      <td>43</td>\n",
       "      <td>female</td>\n",
       "      <td>KSA</td>\n",
       "      <td>1500</td>\n",
       "    </tr>\n",
       "    <tr>\n",
       "      <th>44</th>\n",
       "      <td>45</td>\n",
       "      <td>female</td>\n",
       "      <td>KSA</td>\n",
       "      <td>3000</td>\n",
       "    </tr>\n",
       "    <tr>\n",
       "      <th>46</th>\n",
       "      <td>47</td>\n",
       "      <td>female</td>\n",
       "      <td>KSA</td>\n",
       "      <td>1000</td>\n",
       "    </tr>\n",
       "    <tr>\n",
       "      <th>47</th>\n",
       "      <td>48</td>\n",
       "      <td>female</td>\n",
       "      <td>KSA</td>\n",
       "      <td>1500</td>\n",
       "    </tr>\n",
       "    <tr>\n",
       "      <th>49</th>\n",
       "      <td>50</td>\n",
       "      <td>female</td>\n",
       "      <td>KSA</td>\n",
       "      <td>3000</td>\n",
       "    </tr>\n",
       "    <tr>\n",
       "      <th>50</th>\n",
       "      <td>51</td>\n",
       "      <td>female</td>\n",
       "      <td>KSA</td>\n",
       "      <td>1500</td>\n",
       "    </tr>\n",
       "    <tr>\n",
       "      <th>51</th>\n",
       "      <td>52</td>\n",
       "      <td>female</td>\n",
       "      <td>KSA</td>\n",
       "      <td>2000</td>\n",
       "    </tr>\n",
       "  </tbody>\n",
       "</table>\n",
       "</div>"
      ],
      "text/plain": [
       "    Id  Gender Country  Amount\n",
       "0    1    male     KSA    1500\n",
       "1    2    male     KSA    2000\n",
       "2    3    male     KSA    3000\n",
       "4    5  female     KSA    1000\n",
       "5    6    male     KSA    1500\n",
       "9   10  female     KSA    1000\n",
       "17  18    male     KSA    3000\n",
       "33  34    male     KSA    2000\n",
       "37  38  female     KSA    1000\n",
       "39  40  female     KSA    1500\n",
       "40  41  female     KSA    2000\n",
       "41  42  female     KSA    1000\n",
       "42  43  female     KSA    1500\n",
       "44  45  female     KSA    3000\n",
       "46  47  female     KSA    1000\n",
       "47  48  female     KSA    1500\n",
       "49  50  female     KSA    3000\n",
       "50  51  female     KSA    1500\n",
       "51  52  female     KSA    2000"
      ]
     },
     "execution_count": 3,
     "metadata": {},
     "output_type": "execute_result"
    }
   ],
   "source": [
    "gc.get_group('KSA')"
   ]
  },
  {
   "cell_type": "code",
   "execution_count": 4,
   "id": "d59dead2",
   "metadata": {},
   "outputs": [
    {
     "name": "stdout",
     "output_type": "stream",
     "text": [
      "('KSA', 'female')\n",
      "    Id  Gender Country  Amount\n",
      "4    5  female     KSA    1000\n",
      "9   10  female     KSA    1000\n",
      "37  38  female     KSA    1000\n",
      "39  40  female     KSA    1500\n",
      "40  41  female     KSA    2000\n",
      "41  42  female     KSA    1000\n",
      "42  43  female     KSA    1500\n",
      "44  45  female     KSA    3000\n",
      "46  47  female     KSA    1000\n",
      "47  48  female     KSA    1500\n",
      "49  50  female     KSA    3000\n",
      "50  51  female     KSA    1500\n",
      "51  52  female     KSA    2000\n",
      "('KSA', 'male')\n",
      "    Id Gender Country  Amount\n",
      "0    1   male     KSA    1500\n",
      "1    2   male     KSA    2000\n",
      "2    3   male     KSA    3000\n",
      "5    6   male     KSA    1500\n",
      "17  18   male     KSA    3000\n",
      "33  34   male     KSA    2000\n",
      "('Kuwait', 'female')\n",
      "    Id  Gender Country  Amount\n",
      "3    4  female  Kuwait    2000\n",
      "11  12  female  Kuwait    2000\n",
      "18  19  female  Kuwait    2000\n",
      "35  36  female  Kuwait    1000\n",
      "36  37  female  Kuwait    2000\n",
      "38  39  female  Kuwait    3000\n",
      "43  44  female  Kuwait    2000\n",
      "48  49  female  Kuwait    2000\n",
      "('Kuwait', 'male')\n",
      "    Id Gender Country  Amount\n",
      "6    7   male  Kuwait    2000\n",
      "15  16   male  Kuwait    1500\n",
      "16  17   male  Kuwait    2000\n",
      "19  20   male  Kuwait    1000\n",
      "23  24   male  Kuwait    1000\n",
      "26  27   male  Kuwait    1500\n",
      "30  31   male  Kuwait    1500\n",
      "31  32   male  Kuwait    1000\n",
      "32  33   male  Kuwait    1500\n",
      "34  35   male  Kuwait    1000\n",
      "('UAE', 'female')\n",
      "    Id  Gender Country  Amount\n",
      "10  11  female     UAE    1500\n",
      "12  13  female     UAE    3000\n",
      "14  15  female     UAE    1000\n",
      "45  46  female     UAE    1500\n",
      "('UAE', 'male')\n",
      "    Id Gender Country  Amount\n",
      "7    8   male     UAE    3000\n",
      "8    9   male     UAE    2000\n",
      "13  14   male     UAE    2000\n",
      "20  21   male     UAE    3000\n",
      "21  22   male     UAE    1500\n",
      "22  23   male     UAE    3000\n",
      "24  25   male     UAE    2000\n",
      "25  26   male     UAE    1000\n",
      "27  28   male     UAE    3000\n",
      "28  29   male     UAE    2000\n",
      "29  30   male     UAE    1000\n"
     ]
    }
   ],
   "source": [
    "gc = df.groupby(['Country','Gender'])\n",
    "\n",
    "\n",
    "for name, group in gc:\n",
    "    print (name)\n",
    "    print (group)"
   ]
  },
  {
   "cell_type": "code",
   "execution_count": 5,
   "id": "c521a2a0",
   "metadata": {},
   "outputs": [
    {
     "data": {
      "text/plain": [
       "Country\n",
       "KSA       19\n",
       "Kuwait    18\n",
       "UAE       15\n",
       "Name: Id, dtype: int64"
      ]
     },
     "execution_count": 5,
     "metadata": {},
     "output_type": "execute_result"
    }
   ],
   "source": [
    "counts = df.groupby('Country')['Id'].count()\n",
    "counts"
   ]
  },
  {
   "cell_type": "code",
   "execution_count": 6,
   "id": "d63b19db",
   "metadata": {},
   "outputs": [
    {
     "data": {
      "text/plain": [
       "Country  Gender\n",
       "KSA      female    13\n",
       "         male       6\n",
       "Kuwait   female     8\n",
       "         male      10\n",
       "UAE      female     4\n",
       "         male      11\n",
       "Name: Id, dtype: int64"
      ]
     },
     "execution_count": 6,
     "metadata": {},
     "output_type": "execute_result"
    }
   ],
   "source": [
    "gc = df.groupby(['Country','Gender'])['Id'].count()\n",
    "gc"
   ]
  },
  {
   "cell_type": "code",
   "execution_count": 7,
   "id": "d98daa41",
   "metadata": {},
   "outputs": [
    {
     "data": {
      "text/plain": [
       "Country\n",
       "KSA       1789.473684\n",
       "Kuwait    1666.666667\n",
       "UAE       2033.333333\n",
       "Name: Amount, dtype: float64"
      ]
     },
     "execution_count": 7,
     "metadata": {},
     "output_type": "execute_result"
    }
   ],
   "source": [
    "gc = df.groupby(['Country'])['Amount'].mean()\n",
    "gc"
   ]
  },
  {
   "cell_type": "code",
   "execution_count": 8,
   "id": "c933a8d1",
   "metadata": {},
   "outputs": [
    {
     "data": {
      "text/html": [
       "<div>\n",
       "<style scoped>\n",
       "    .dataframe tbody tr th:only-of-type {\n",
       "        vertical-align: middle;\n",
       "    }\n",
       "\n",
       "    .dataframe tbody tr th {\n",
       "        vertical-align: top;\n",
       "    }\n",
       "\n",
       "    .dataframe thead th {\n",
       "        text-align: right;\n",
       "    }\n",
       "</style>\n",
       "<table border=\"1\" class=\"dataframe\">\n",
       "  <thead>\n",
       "    <tr style=\"text-align: right;\">\n",
       "      <th></th>\n",
       "      <th>Mean_Amount</th>\n",
       "      <th>Sum_Amount</th>\n",
       "      <th>numbers</th>\n",
       "    </tr>\n",
       "    <tr>\n",
       "      <th>Country</th>\n",
       "      <th></th>\n",
       "      <th></th>\n",
       "      <th></th>\n",
       "    </tr>\n",
       "  </thead>\n",
       "  <tbody>\n",
       "    <tr>\n",
       "      <th>KSA</th>\n",
       "      <td>1789.473684</td>\n",
       "      <td>34000</td>\n",
       "      <td>19</td>\n",
       "    </tr>\n",
       "    <tr>\n",
       "      <th>Kuwait</th>\n",
       "      <td>1666.666667</td>\n",
       "      <td>30000</td>\n",
       "      <td>18</td>\n",
       "    </tr>\n",
       "    <tr>\n",
       "      <th>UAE</th>\n",
       "      <td>2033.333333</td>\n",
       "      <td>30500</td>\n",
       "      <td>15</td>\n",
       "    </tr>\n",
       "  </tbody>\n",
       "</table>\n",
       "</div>"
      ],
      "text/plain": [
       "         Mean_Amount  Sum_Amount  numbers\n",
       "Country                                  \n",
       "KSA      1789.473684       34000       19\n",
       "Kuwait   1666.666667       30000       18\n",
       "UAE      2033.333333       30500       15"
      ]
     },
     "execution_count": 8,
     "metadata": {},
     "output_type": "execute_result"
    }
   ],
   "source": [
    "gc = df.groupby(['Country']).agg(Mean_Amount=('Amount','mean'), Sum_Amount=('Amount','sum'), numbers=('Id', 'count'))\n",
    "gc"
   ]
  },
  {
   "cell_type": "code",
   "execution_count": 9,
   "id": "2dc83f98",
   "metadata": {},
   "outputs": [
    {
     "data": {
      "text/html": [
       "<div>\n",
       "<style scoped>\n",
       "    .dataframe tbody tr th:only-of-type {\n",
       "        vertical-align: middle;\n",
       "    }\n",
       "\n",
       "    .dataframe tbody tr th {\n",
       "        vertical-align: top;\n",
       "    }\n",
       "\n",
       "    .dataframe thead th {\n",
       "        text-align: right;\n",
       "    }\n",
       "</style>\n",
       "<table border=\"1\" class=\"dataframe\">\n",
       "  <thead>\n",
       "    <tr style=\"text-align: right;\">\n",
       "      <th></th>\n",
       "      <th>Mean_Amount</th>\n",
       "      <th>Sum_Amount</th>\n",
       "      <th>numbers</th>\n",
       "    </tr>\n",
       "    <tr>\n",
       "      <th>Country</th>\n",
       "      <th></th>\n",
       "      <th></th>\n",
       "      <th></th>\n",
       "    </tr>\n",
       "  </thead>\n",
       "  <tbody>\n",
       "    <tr>\n",
       "      <th>KSA</th>\n",
       "      <td>1789.473684</td>\n",
       "      <td>34000</td>\n",
       "      <td>19</td>\n",
       "    </tr>\n",
       "    <tr>\n",
       "      <th>UAE</th>\n",
       "      <td>2033.333333</td>\n",
       "      <td>30500</td>\n",
       "      <td>15</td>\n",
       "    </tr>\n",
       "    <tr>\n",
       "      <th>Kuwait</th>\n",
       "      <td>1666.666667</td>\n",
       "      <td>30000</td>\n",
       "      <td>18</td>\n",
       "    </tr>\n",
       "  </tbody>\n",
       "</table>\n",
       "</div>"
      ],
      "text/plain": [
       "         Mean_Amount  Sum_Amount  numbers\n",
       "Country                                  \n",
       "KSA      1789.473684       34000       19\n",
       "UAE      2033.333333       30500       15\n",
       "Kuwait   1666.666667       30000       18"
      ]
     },
     "execution_count": 9,
     "metadata": {},
     "output_type": "execute_result"
    }
   ],
   "source": [
    "gc.sort_values(by=['Sum_Amount'], ascending=False)"
   ]
  }
 ],
 "metadata": {
  "kernelspec": {
   "display_name": "Python 3 (ipykernel)",
   "language": "python",
   "name": "python3"
  },
  "language_info": {
   "codemirror_mode": {
    "name": "ipython",
    "version": 3
   },
   "file_extension": ".py",
   "mimetype": "text/x-python",
   "name": "python",
   "nbconvert_exporter": "python",
   "pygments_lexer": "ipython3",
   "version": "3.10.9"
  }
 },
 "nbformat": 4,
 "nbformat_minor": 5
}
