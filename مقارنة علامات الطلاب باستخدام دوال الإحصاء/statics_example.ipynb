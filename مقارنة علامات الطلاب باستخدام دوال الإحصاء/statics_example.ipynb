{
 "cells": [
  {
   "cell_type": "code",
   "execution_count": 1,
   "id": "8ef5aff9",
   "metadata": {},
   "outputs": [
    {
     "name": "stdout",
     "output_type": "stream",
     "text": [
      "<class 'pandas.core.frame.DataFrame'>\n",
      "RangeIndex: 1000 entries, 0 to 999\n",
      "Data columns (total 4 columns):\n",
      " #   Column         Non-Null Count  Dtype \n",
      "---  ------         --------------  ----- \n",
      " 0   gender         1000 non-null   object\n",
      " 1   math score     1000 non-null   int64 \n",
      " 2   reading score  1000 non-null   int64 \n",
      " 3   writing score  1000 non-null   int64 \n",
      "dtypes: int64(3), object(1)\n",
      "memory usage: 31.4+ KB\n"
     ]
    }
   ],
   "source": [
    "import pandas as pd\n",
    "\n",
    "df = pd.read_csv(\"Students_exams.csv\")\n",
    "\n",
    "df.info()"
   ]
  },
  {
   "cell_type": "code",
   "execution_count": 2,
   "id": "f4c60014",
   "metadata": {},
   "outputs": [
    {
     "name": "stdout",
     "output_type": "stream",
     "text": [
      "<class 'pandas.core.frame.DataFrame'>\n",
      "RangeIndex: 1000 entries, 0 to 999\n",
      "Data columns (total 4 columns):\n",
      " #   Column         Non-Null Count  Dtype \n",
      "---  ------         --------------  ----- \n",
      " 0   gender         1000 non-null   object\n",
      " 1   math_score     1000 non-null   int64 \n",
      " 2   reading_score  1000 non-null   int64 \n",
      " 3   writing_score  1000 non-null   int64 \n",
      "dtypes: int64(3), object(1)\n",
      "memory usage: 31.4+ KB\n"
     ]
    }
   ],
   "source": [
    "df.rename(columns={\n",
    "        'math score': 'math_score', \n",
    "        'reading score': 'reading_score',\n",
    "        'writing score': 'writing_score',\n",
    "    }, inplace=True\n",
    ")\n",
    "df.info()"
   ]
  },
  {
   "cell_type": "code",
   "execution_count": 3,
   "id": "45fb68f8",
   "metadata": {},
   "outputs": [],
   "source": [
    "statics_df = pd.DataFrame(columns=['statics','math','reading', 'writing'])"
   ]
  },
  {
   "cell_type": "code",
   "execution_count": 4,
   "id": "c6db1aa6",
   "metadata": {},
   "outputs": [],
   "source": [
    "x = df['math_score'].count()\n",
    "y = df['reading_score'].count()\n",
    "z = df['writing_score'].count()\n",
    "\n",
    "row = {'statics':'Count', 'math':x, 'reading':y, 'writing':z}\n",
    "#statics_df = statics_df.append(row, ignore_index=True)\n",
    "statics_df = pd.concat([statics_df, pd.DataFrame.from_records([row])], ignore_index=True)"
   ]
  },
  {
   "cell_type": "code",
   "execution_count": 5,
   "id": "4bdef3f3",
   "metadata": {},
   "outputs": [],
   "source": [
    "x = df['math_score'].min()\n",
    "y = df['reading_score'].min()\n",
    "z = df['writing_score'].min()\n",
    "\n",
    "row = {'statics':'Min', 'math':x, 'reading':y, 'writing':z}\n",
    "#statics_df = statics_df.append(row, ignore_index=True)\n",
    "statics_df = pd.concat([statics_df, pd.DataFrame.from_records([row])], ignore_index=True)"
   ]
  },
  {
   "cell_type": "code",
   "execution_count": 6,
   "id": "89642dfc",
   "metadata": {},
   "outputs": [],
   "source": [
    "x = df['math_score'].max()\n",
    "y = df['reading_score'].max()\n",
    "z = df['writing_score'].max()\n",
    "\n",
    "row = {'statics':'Max', 'math':x, 'reading':y, 'writing':z}\n",
    "#statics_df = statics_df.append(row, ignore_index=True)\n",
    "statics_df = pd.concat([statics_df, pd.DataFrame.from_records([row])], ignore_index=True)"
   ]
  },
  {
   "cell_type": "code",
   "execution_count": 7,
   "id": "c1361f69",
   "metadata": {},
   "outputs": [],
   "source": [
    "x = df['math_score'].mean()\n",
    "y = df['reading_score'].mean()\n",
    "z = df['writing_score'].mean()\n",
    "\n",
    "row = {'statics':'Mean', 'math':x, 'reading':y, 'writing':z}\n",
    "#statics_df = statics_df.append(row, ignore_index=True)\n",
    "statics_df = pd.concat([statics_df, pd.DataFrame.from_records([row])], ignore_index=True)"
   ]
  },
  {
   "cell_type": "code",
   "execution_count": 8,
   "id": "8381432b",
   "metadata": {},
   "outputs": [],
   "source": [
    "x = df['math_score'].median()\n",
    "y = df['reading_score'].median()\n",
    "z = df['writing_score'].median()\n",
    "\n",
    "row = {'statics':'Median', 'math':x, 'reading':y, 'writing':z}\n",
    "#statics_df = statics_df.append(row, ignore_index=True)\n",
    "statics_df = pd.concat([statics_df, pd.DataFrame.from_records([row])], ignore_index=True)"
   ]
  },
  {
   "cell_type": "code",
   "execution_count": 9,
   "id": "e0d8642d",
   "metadata": {},
   "outputs": [],
   "source": [
    "x = df['math_score'].std()\n",
    "y = df['reading_score'].std()\n",
    "z = df['writing_score'].std()\n",
    "\n",
    "row = {'statics':'Std', 'math':x, 'reading':y, 'writing':z}\n",
    "#statics_df = statics_df.append(row, ignore_index=True)\n",
    "statics_df = pd.concat([statics_df, pd.DataFrame.from_records([row])], ignore_index=True)"
   ]
  },
  {
   "cell_type": "code",
   "execution_count": 10,
   "id": "4faefc26",
   "metadata": {},
   "outputs": [],
   "source": [
    "x = df['math_score'].mode()[0]\n",
    "y = df['reading_score'].mode()[0]\n",
    "z = df['writing_score'].mode()[0]\n",
    "\n",
    "row = {'statics':'Mode', 'math':x, 'reading':y, 'writing':z}\n",
    "#statics_df = statics_df.append(row, ignore_index=True)\n",
    "statics_df = pd.concat([statics_df, pd.DataFrame.from_records([row])], ignore_index=True)"
   ]
  },
  {
   "cell_type": "code",
   "execution_count": 11,
   "id": "94d48d52",
   "metadata": {},
   "outputs": [
    {
     "data": {
      "text/html": [
       "<div>\n",
       "<style scoped>\n",
       "    .dataframe tbody tr th:only-of-type {\n",
       "        vertical-align: middle;\n",
       "    }\n",
       "\n",
       "    .dataframe tbody tr th {\n",
       "        vertical-align: top;\n",
       "    }\n",
       "\n",
       "    .dataframe thead th {\n",
       "        text-align: right;\n",
       "    }\n",
       "</style>\n",
       "<table border=\"1\" class=\"dataframe\">\n",
       "  <thead>\n",
       "    <tr style=\"text-align: right;\">\n",
       "      <th></th>\n",
       "      <th>statics</th>\n",
       "      <th>math</th>\n",
       "      <th>reading</th>\n",
       "      <th>writing</th>\n",
       "    </tr>\n",
       "  </thead>\n",
       "  <tbody>\n",
       "    <tr>\n",
       "      <th>0</th>\n",
       "      <td>Count</td>\n",
       "      <td>1000</td>\n",
       "      <td>1000</td>\n",
       "      <td>1000</td>\n",
       "    </tr>\n",
       "    <tr>\n",
       "      <th>1</th>\n",
       "      <td>Min</td>\n",
       "      <td>0</td>\n",
       "      <td>17</td>\n",
       "      <td>10</td>\n",
       "    </tr>\n",
       "    <tr>\n",
       "      <th>2</th>\n",
       "      <td>Max</td>\n",
       "      <td>100</td>\n",
       "      <td>100</td>\n",
       "      <td>100</td>\n",
       "    </tr>\n",
       "    <tr>\n",
       "      <th>3</th>\n",
       "      <td>Mean</td>\n",
       "      <td>66.089</td>\n",
       "      <td>69.169</td>\n",
       "      <td>68.054</td>\n",
       "    </tr>\n",
       "    <tr>\n",
       "      <th>4</th>\n",
       "      <td>Median</td>\n",
       "      <td>66.0</td>\n",
       "      <td>70.0</td>\n",
       "      <td>69.0</td>\n",
       "    </tr>\n",
       "    <tr>\n",
       "      <th>5</th>\n",
       "      <td>Std</td>\n",
       "      <td>15.16308</td>\n",
       "      <td>14.600192</td>\n",
       "      <td>15.195657</td>\n",
       "    </tr>\n",
       "    <tr>\n",
       "      <th>6</th>\n",
       "      <td>Mode</td>\n",
       "      <td>65</td>\n",
       "      <td>72</td>\n",
       "      <td>74</td>\n",
       "    </tr>\n",
       "  </tbody>\n",
       "</table>\n",
       "</div>"
      ],
      "text/plain": [
       "  statics      math    reading    writing\n",
       "0   Count      1000       1000       1000\n",
       "1     Min         0         17         10\n",
       "2     Max       100        100        100\n",
       "3    Mean    66.089     69.169     68.054\n",
       "4  Median      66.0       70.0       69.0\n",
       "5     Std  15.16308  14.600192  15.195657\n",
       "6    Mode        65         72         74"
      ]
     },
     "execution_count": 11,
     "metadata": {},
     "output_type": "execute_result"
    }
   ],
   "source": [
    "statics_df"
   ]
  }
 ],
 "metadata": {
  "kernelspec": {
   "display_name": "Python 3 (ipykernel)",
   "language": "python",
   "name": "python3"
  },
  "language_info": {
   "codemirror_mode": {
    "name": "ipython",
    "version": 3
   },
   "file_extension": ".py",
   "mimetype": "text/x-python",
   "name": "python",
   "nbconvert_exporter": "python",
   "pygments_lexer": "ipython3",
   "version": "3.10.9"
  }
 },
 "nbformat": 4,
 "nbformat_minor": 5
}
